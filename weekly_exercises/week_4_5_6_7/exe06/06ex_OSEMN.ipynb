{
 "cells": [
  {
   "cell_type": "code",
   "execution_count": 1,
   "metadata": {},
   "outputs": [],
   "source": [
    "import pandas as pd\n",
    "import numpy as np\n",
    "import numpy.random as npr\n",
    "import json"
   ]
  },
  {
   "cell_type": "markdown",
   "metadata": {},
   "source": [
    "1\\. **Text files**\n",
    "\n",
    "Perform the following operations on plain `txt` files:\n",
    "\n",
    "+ create a list of integrer numbers and then save it to a text file named `data_int.txt`. Run the `cat` command to print the content of the file.\n",
    "+ create a matrix of 5x5 floats and then save it to a text file named `data_float.txt`. Use the `cat` command to print the content of the file.\n",
    "+ load the `txt` file of the previous point and convert it to a `csv` file by hand."
   ]
  },
  {
   "cell_type": "code",
   "execution_count": 56,
   "metadata": {},
   "outputs": [
    {
     "name": "stdout",
     "output_type": "stream",
     "text": [
      ">> Random ints = [17 30 29 46 49 33  8 36 25 43 15 28 29 35  2]\n",
      ">> 5x5 matrix =\n",
      " [[ 4.44311973 10.55676349  4.8346619   6.79624693  1.56321262]\n",
      " [13.92821619 11.2533013  10.20458772  8.81496831  3.51022775]\n",
      " [ 6.23957862  3.3676718   8.76270538 12.16767256 11.2365988 ]\n",
      " [ 5.14100374 10.46201097  6.34097118  5.38553519  1.89527785]\n",
      " [ 6.81879613 10.20357651  6.15147776  3.40913744  7.54651068]]\n"
     ]
    }
   ],
   "source": [
    "random_ints = npr.randint(1, 50, 15)\n",
    "print(\">> Random ints =\", random_ints)\n",
    "data_int_file = \"data/data_int.txt\"\n",
    "\n",
    "with open(data_int_file, 'w') as f:\n",
    "    f.write(str(random_ints))\n",
    "\n",
    "# !cat data/data_int.txt\n",
    "\n",
    "matrix_5float = np.random.uniform(1, 15, (5, 5))\n",
    "print(\">> 5x5 matrix =\\n\", matrix_5float)\n",
    "data_float_file = \"data/data_float.txt\"\n",
    "\n",
    "with open(data_float_file, 'w') as f:\n",
    "    f.write(str(matrix_5float))\n",
    "\n",
    "# !cat data/data_float.txt\n",
    "data_csv_file = \"data/data_float.csv\"\n",
    "\n",
    "with open(data_float_file, 'r') as f:\n",
    "    with open(data_csv_file, 'w') as c:\n",
    "        for line in f:\n",
    "            modifyFile = line.replace(\"[\", \"\")\n",
    "            modifyFile = modifyFile.replace(\"]\", \"\")\n",
    "            modifyFile = modifyFile.split()\n",
    "            modifyFile = \",\".join(modifyFile) + \",\"\n",
    "            c.write(modifyFile)\n"
   ]
  },
  {
   "cell_type": "markdown",
   "metadata": {},
   "source": [
    "2\\. **JSON files**\n",
    "\n",
    "Load the file *user_data.json*, which can be found at:\n",
    "\n",
    "- https://www.dropbox.com/s/sz5klcdpckc39hd/user_data.json\n",
    "\n",
    "and filter the data by the \"CreditCardType\" when it equals to \"American Express\". Than save the data to a new CSV file."
   ]
  },
  {
   "cell_type": "code",
   "execution_count": 69,
   "metadata": {},
   "outputs": [
    {
     "name": "stdout",
     "output_type": "stream",
     "text": [
      ">> User data:\n",
      "       ID             JobTitle                    EmailAddress  \\\n",
      "0      1      Project Manager    Remy_Crawford1065@typill.biz   \n",
      "1      2  Investment  Advisor    Clint_Thorpe5003@bulaffy.com   \n",
      "2      3                 Cook   Russel_Hooper9403@bulaffy.com   \n",
      "3      4      Business Broker   Benjamin_Rowan6280@gembat.biz   \n",
      "4      5         Loan Officer       Matt_Lloyd3241@guentu.biz   \n",
      "..   ...                  ...                             ...   \n",
      "195  196         Loan Officer        Wade_Khan6086@twipet.com   \n",
      "196  197                 Cook         Ally_Rose8531@twace.org   \n",
      "197  198     Machine Operator      Harvey_Moore7505@extex.org   \n",
      "198  199  Investment  Advisor      Ryan_Kennedy5565@corti.com   \n",
      "199  200          Stockbroker  Michaela_Murphy8359@ovock.tech   \n",
      "\n",
      "    FirstNameLastName           CreditCard    CreditCardType  \n",
      "0       Remy Crawford  6205-7258-7671-0612       Capital One  \n",
      "1        Clint Thorpe  7083-8766-0251-2345  American Express  \n",
      "2       Russel Hooper  6378-4461-8535-5847          Discover  \n",
      "3      Benjamin Rowan  5781-7635-1428-7414          Discover  \n",
      "4          Matt Lloyd  5771-8416-2736-1700          Citibank  \n",
      "..                ...                  ...               ...  \n",
      "195         Wade Khan  1363-2250-6020-4481       Capital One  \n",
      "196         Ally Rose  6056-7620-3676-2804           Maestro  \n",
      "197      Harvey Moore  4353-7464-5078-5485          UnionPay  \n",
      "198      Ryan Kennedy  3166-6287-6242-7207  American Express  \n",
      "199   Michaela Murphy  4783-1022-5267-5557          Discover  \n",
      "\n",
      "[200 rows x 6 columns]\n"
     ]
    }
   ],
   "source": [
    "#!wget \"https://www.dropbox.com/s/sz5klcdpckc39hd/user_data.json\" -P data/\n",
    "data_json_file = \"data/user_data.json\"\n",
    "\n",
    "data = pd.read_json(data_json_file)\n",
    "\n",
    "print(\">> User data:\\n\",data)\n",
    "\n",
    "data = data[data['CreditCardType'] == \"American Express\"]\n",
    "\n",
    "data.to_csv(\"data/user_data.csv\")\n"
   ]
  },
  {
   "cell_type": "markdown",
   "metadata": {},
   "source": [
    "3\\. **CSV files with Pandas**\n",
    "\n",
    "Load the file from this url:\n",
    "\n",
    "- https://www.dropbox.com/s/kgshemfgk22iy79/mushrooms_categorized.csv\n",
    "\n",
    "with Pandas. \n",
    "\n",
    "+ explore and print the DataFrame\n",
    "+ calculate, using `groupby()`, the average value of each feature, separately for each class\n",
    "+ save the file in a JSON format."
   ]
  },
  {
   "cell_type": "code",
   "execution_count": 72,
   "metadata": {},
   "outputs": [
    {
     "name": "stdout",
     "output_type": "stream",
     "text": [
      ">> Average value of each feature - Mushrooms data:\n",
      "        class  cap-shape  cap-surface  cap-color   bruises      odor  \\\n",
      "class                                                                 \n",
      "0        0.0   3.266160     1.615970   4.581749  0.653992  4.334601   \n",
      "1        1.0   3.436159     2.055158   4.421859  0.159346  3.940756   \n",
      "\n",
      "       gill-attachment  gill-spacing  gill-size  gill-color  ...  \\\n",
      "class                                                        ...   \n",
      "0             0.954373      0.285171   0.068441    6.622624  ...   \n",
      "1             0.995403      0.028601   0.567926    2.863636  ...   \n",
      "\n",
      "       stalk-surface-below-ring  stalk-color-above-ring  \\\n",
      "class                                                     \n",
      "0                      1.798479                6.098859   \n",
      "1                      1.394280                5.512768   \n",
      "\n",
      "       stalk-color-below-ring  veil-type  veil-color  ring-number  ring-type  \\\n",
      "class                                                                          \n",
      "0                    6.064639        0.0    1.931559     1.125475   3.007605   \n",
      "1                    5.504597        0.0    2.002043     1.009193   1.522983   \n",
      "\n",
      "       spore-print-color  population   habitat  \n",
      "class                                           \n",
      "0               3.201521    3.283270  1.148289  \n",
      "1               4.021450    4.031665  1.895812  \n",
      "\n",
      "[2 rows x 23 columns]\n"
     ]
    }
   ],
   "source": [
    "#!wget \"https://www.dropbox.com/s/kgshemfgk22iy79/mushrooms_categorized.csv\" -P data/\n",
    "mushrooms_csv_file = \"data/mushrooms_categorized.csv\"\n",
    "mushrooms_json_file = \"data/mushrooms_categorized.json\"\n",
    "\n",
    "data = pd.read_csv(mushrooms_csv_file)\n",
    "\n",
    "#print(\">> Mushrooms data:\\n\", data)\n",
    "\n",
    "average_features = data.groupby(['class'])[data.columns].mean()\n",
    "average_features.to_json(mushrooms_json_file)\n",
    "#print(\">> Average value of each feature - Mushrooms data:\\n\", average_features)\n"
   ]
  },
  {
   "cell_type": "markdown",
   "metadata": {},
   "source": [
    "4\\. **Reading the credit card numbers**\n",
    "\n",
    "Get the binary file named *credit_card.dat* from this address:\n",
    "\n",
    "- https://www.dropbox.com/s/8m0syw2tkul3dap/credit_card.dat\n",
    "\n",
    "and convert the data into the real credit card number, knowing that:\n",
    "- each line corresponds to a credit card number, which consists of 16 characters (which are numbers in the 0-9 range) divided in 4 blocks, with a whitespace between each block\n",
    "- each character is written using a 6 bit binary representation (including the whitespace)\n",
    "- the final 4 bits of each line are a padding used to determine the end of the line, and can be ignored\n",
    "\n",
    "*Hint*: convert the binary numbers to the decimal representation first, and then use the `chr()` function to convert the latter to a char"
   ]
  },
  {
   "cell_type": "code",
   "execution_count": 48,
   "metadata": {},
   "outputs": [
    {
     "name": "stdout",
     "output_type": "stream",
     "text": [
      "7648 5673 3775 2271\n",
      "\n",
      "3257 8247 3354 2266\n",
      "\n",
      "2722 0001 4011 6652\n",
      "\n",
      "0661 3063 3742 3150\n",
      "\n",
      "0432 1608 1462 4742\n",
      "\n",
      "5827 2027 8785 7303\n",
      "\n",
      "5774 8528 2087 1117\n",
      "\n",
      "8140 1210 6352 2845\n",
      "\n",
      "5764 1133 7301 7100\n",
      "\n",
      "6456 1737 4126 6726\n",
      "\n",
      "1228 8631 7382 0000\n",
      "\n",
      "7051 0160 5374 3166\n",
      "\n",
      "0618 3587 1630 6376\n",
      "\n",
      "1545 5454 7444 5636\n",
      "\n",
      "6735 3116 3202 6834\n",
      "\n",
      "7287 5011 1547 8413\n",
      "\n",
      "7033 2607 3328 4200\n",
      "\n",
      "2568 5244 1874 5024\n",
      "\n",
      "1684 2253 7570 7118\n",
      "\n",
      "0672 2576 0575 6631\n",
      "\n",
      "6332 8353 8787 1340\n",
      "\n",
      "1813 3361 1175 4211\n",
      "\n",
      "2477 6450 8840 2368\n",
      "\n",
      "5512 3505 2563 1326\n",
      "\n",
      "3083 7882 0621 0025\n",
      "\n",
      "4521 5148 8045 0334\n",
      "\n",
      "7563 3654 8713 5787\n",
      "\n",
      "8324 2664 0476 5561\n",
      "\n",
      "0565 2504 7168 3510\n",
      "\n",
      "5107 5507 1767 0738\n",
      "\n",
      "2462 1821 2448 1443\n",
      "\n",
      "2788 0638 6861 6554\n",
      "\n",
      "5851 5873 5474 0547\n",
      "\n",
      "0670 1004 4013 2655\n",
      "\n",
      "5874 5506 3048 0806\n",
      "\n",
      "2805 5401 8462 1260\n",
      "\n",
      "5083 8406 6310 1862\n",
      "\n",
      "1076 1445 3013 2266\n",
      "\n",
      "8440 4804 4844 5277\n",
      "\n",
      "4758 6141 0686 1387\n",
      "\n",
      "7586 0675 0315 2568\n",
      "\n",
      "2544 1258 7432 5165\n",
      "\n",
      "3474 5023 4434 5626\n",
      "\n",
      "1410 0270 0434 5086\n",
      "\n",
      "7315 4446 1104 4215\n",
      "\n",
      "0224 7742 8300 0266\n",
      "\n",
      "0170 2700 3145 0640\n",
      "\n",
      "2006 2437 8054 1600\n",
      "\n",
      "8142 4055 1776 0026\n",
      "\n",
      "3026 7380 1241 1084\n",
      "\n",
      "\n",
      "\n"
     ]
    }
   ],
   "source": [
    "#!wget \"https://www.dropbox.com/s/8m0syw2tkul3dap/credit_card.dat\" -P data/\n",
    "credit_dat = \"data/credit_card.dat\"\n",
    "credit=[]\n",
    "with open(credit_dat, 'r') as file:\n",
    "    for line in file:\n",
    "        block = ''\n",
    "        i = 0\n",
    "        while(i<len(line)):\n",
    "            bin_number = '0b' + line[i:i + 6]\n",
    "            block += chr(int(bin_number, 2))\n",
    "            i+=6\n",
    "        print(block)\n",
    "        credit.append(block)\n",
    "        \n"
   ]
  },
  {
   "cell_type": "markdown",
   "metadata": {},
   "source": [
    "5\\. **Write data to a binary file**\n",
    "\n",
    "a) Start from the `data/data_000637.txt` file that we have used during the previous lectures, and convert it to a binary file according to the format defined below:"
   ]
  },
  {
   "cell_type": "code",
   "execution_count": null,
   "metadata": {},
   "outputs": [],
   "source": [
    "from IPython.display import Image\n",
    "Image(\"images/data_format.png\")"
   ]
  },
  {
   "cell_type": "markdown",
   "metadata": {},
   "source": [
    "*Hints*:\n",
    "- Read the first 10 lines using Pandas\n",
    "- Iterate over the DataFrame rows\n",
    "- For every row, ``pack'' the values (features) into a single 64-bit word, according to the format specified above. Use bit-wise shifts and operators to do so.\n",
    "- Write each 64-bit word to a binary file. You can use `struct` in this way:\n",
    "```\n",
    "binary_file.write( struct.pack('<q', word) )\n",
    "```\n",
    "where `word` is the 64-bit word.\n",
    "- Close the file after completing the loop.\n",
    "\n",
    "b) Check that the binary file is correctly written by reading it with the code used in the lecture `06_OSEMN.ipynb`, and verify that the content of the `txt` and binary files is consistent.\n",
    "\n",
    "c) What is the difference of the size on disk between equivalent `txt` and binary files?"
   ]
  },
  {
   "cell_type": "code",
   "execution_count": null,
   "metadata": {},
   "outputs": [],
   "source": []
  }
 ],
 "metadata": {
  "kernelspec": {
   "display_name": "Python 3.9.7 64-bit",
   "language": "python",
   "name": "python3"
  },
  "language_info": {
   "codemirror_mode": {
    "name": "ipython",
    "version": 3
   },
   "file_extension": ".py",
   "mimetype": "text/x-python",
   "name": "python",
   "nbconvert_exporter": "python",
   "pygments_lexer": "ipython3",
   "version": "3.9.7"
  },
  "vscode": {
   "interpreter": {
    "hash": "8b44ecabb1d31c9a42204a6d38fccddfc0996fe654587f4e4f9c1a68999647c2"
   }
  }
 },
 "nbformat": 4,
 "nbformat_minor": 2
}
